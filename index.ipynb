{
 "cells": [
  {
   "attachments": {},
   "cell_type": "markdown",
   "metadata": {},
   "source": [
    "# About Me\n",
    "\n",
    "<div style=\"float: left; position: relative; top: 0px; padding-right: 30px;\"><img src=\"portait_small.png\"></div>\n",
    "\n",
    "I am an Assistant Professor in Applied Economics at the University of Minnesota. I also work closely with the Natural Capital Project at The Institute on the Environment, University of Minnesota and Stanford University. My research focuses on how the economy affects the environment, and vice versa, on global to local scales. Specifically, I am an expert in modeling ecosystem services (how natural capital provides valuable services to humans) and integrating these models with general equilibrium economic models. To do this, I write open-source software (Python, R and C/C++) that uses very big data (>8 billion observations) with economic modeling and machine-learning techniques. See my research page for details.\n",
    "\n",
    "I recently launched and now lead a new project that links the Global Trade Analysis Project (GTAP) out of Purdue University with the Integrated Valuation of Ecosystem Services and Tradeoffs (InVEST) model from the Natural Capital Project, based at Stanford University and the University of Minnesota. The project team, which includes the founder of GTAP, Thomas Hertel, and the co-founder of the Natural Capital Project, Stephen Polasky, aims to build strong quantitative evidence on how changes in ecosystem services affect economic performance at the macroeconomic level.\n",
    "\n",
    "In addition to ecosystem services, I also research food security, climate change and agricultural management in developing countries, along with more traditional topics in economics such as dynamic general equilibrium modeling of economic growth. In my spare time, I am a mountain biker, rock climber and board game designer.\n",
    "\n",
    "See the very rough draft of the textbook I'm working on: [Earth-Economy Modeling: Fine resolution ecosystems in general equilibrium](https://jandrewjohnson.github.io/earth_economy_textbook/)"
   ]
  }
 ],
 "metadata": {
  "kernelspec": {
   "display_name": "8222env1",
   "language": "python",
   "name": "python3"
  },
  "language_info": {
   "name": "python",
   "version": "3.10.8 | packaged by conda-forge | (main, Nov 22 2022, 08:16:33) [MSC v.1929 64 bit (AMD64)]"
  },
  "orig_nbformat": 4,
  "vscode": {
   "interpreter": {
    "hash": "0db313e0ad7b6749a6d098fb61fddaded88cbd823278030b75fa0893942c8f77"
   }
  }
 },
 "nbformat": 4,
 "nbformat_minor": 2
}
